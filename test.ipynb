{
 "cells": [
  {
   "cell_type": "code",
   "execution_count": null,
   "metadata": {},
   "outputs": [],
   "source": [
    "from keras.utils import img_to_array\n",
    "from keras.models import load_model\n",
    "import numpy as np\n",
    "import argparse\n",
    "import imutils\n",
    "from imutils import paths\n",
    "import pickle\n",
    "import cv2\n",
    "import os\n",
    "\n",
    "IMAGE_DIMS = (112, 112, 3)\n",
    "\n",
    "imagePaths = sorted(list(paths.list_images(\"data(filtered)\")))\n",
    "\n",
    "print(\"[INFO] loading network...\")\n",
    "model = load_model(\"model_full.h5\")\n",
    "lb = pickle.loads(open(\"lb_full\", \"rb\").read())\n",
    "\n",
    "print(\"[INFO] classifying image...\")\n",
    "\n",
    "total = 0\n",
    "incorrect = 0\n",
    "errors = []\n",
    "for imagePath in imagePaths:\n",
    "  image = cv2.imread(imagePath)\n",
    "  image = cv2.resize(image, (IMAGE_DIMS[1], IMAGE_DIMS[0]))\n",
    "  image = image.astype(\"float\") / 255.0\n",
    "  image = img_to_array(image)\n",
    "  image = np.expand_dims(image, axis = 0)\n",
    "\n",
    "  correct_label = imagePath.split(os.path.sep)[-2]\n",
    "\n",
    "  \n",
    "  proba = model.predict(image)[0]\n",
    "  idx = np.argmax(proba)\n",
    "  predicted_label = lb.classes_[idx]\n",
    "\n",
    "  total+= 1\n",
    "  if total % 100 == 0:\n",
    "    print(total)\n",
    "  if correct_label != predicted_label:\n",
    "    # img = cv2.imread(imagePath)\n",
    "    # img = cv2.resize(img, (400,600))\n",
    "    # cv2.imshow(str(incorrect) +'  ' + correct_label, img)\n",
    "    # cv2.waitKey(0) \n",
    "    incorrect += 1\n",
    "    errors.append(imagePath)\n",
    "\n",
    "print(f\"total: {total}\")\n",
    "print(f\"incorrect: {incorrect}\")\n",
    "print(f\"accuracy:  {(total - incorrect) / total}\")\n",
    "\n",
    "for imagePath in errors:\n",
    "  \n",
    "  print(imagePath)\n",
    " "
   ]
  }
 ],
 "metadata": {
  "kernelspec": {
   "display_name": "Python 3.9.12 ('base')",
   "language": "python",
   "name": "python3"
  },
  "language_info": {
   "name": "python",
   "version": "3.9.12"
  },
  "orig_nbformat": 4,
  "vscode": {
   "interpreter": {
    "hash": "a79bd1345f737a96243b6b515c5abab8436d4cfbbc96fc5a5b380c80cf2ea0ad"
   }
  }
 },
 "nbformat": 4,
 "nbformat_minor": 2
}
